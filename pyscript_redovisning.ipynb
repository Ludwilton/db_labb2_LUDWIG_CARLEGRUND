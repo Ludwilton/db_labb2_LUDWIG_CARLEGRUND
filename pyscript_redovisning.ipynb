{
 "cells": [
  {
   "cell_type": "markdown",
   "id": "5972f5dd",
   "metadata": {},
   "source": [
    "sql injection skydd: \n",
    "använder sqlalchemys text(), och en search pattern parameter, \n",
    "\n",
    "endast SELECT queries implementerade\n",
    "\n",
    "input validering\n",
    "\n",
    "try-catch för db fel\n",
    "returnerar en tom DF vid fel"
   ]
  },
  {
   "cell_type": "markdown",
   "id": "7b844c98",
   "metadata": {},
   "source": [
    "### 1. importera modulen"
   ]
  },
  {
   "cell_type": "code",
   "execution_count": 1,
   "id": "28e4a1db",
   "metadata": {},
   "outputs": [],
   "source": [
    "import sqlalchlabb as sql"
   ]
  },
  {
   "cell_type": "markdown",
   "id": "da209bd3",
   "metadata": {},
   "source": [
    "### 2. Connecta till servern, prompt för lösenord"
   ]
  },
  {
   "cell_type": "code",
   "execution_count": 2,
   "id": "96a10ab0",
   "metadata": {},
   "outputs": [
    {
     "name": "stdout",
     "output_type": "stream",
     "text": [
      "connected\n"
     ]
    }
   ],
   "source": [
    "engine = sql.connect_to_server()"
   ]
  },
  {
   "cell_type": "markdown",
   "id": "e1d53c83",
   "metadata": {},
   "source": [
    "### 3. ange sökterm"
   ]
  },
  {
   "cell_type": "code",
   "execution_count": 5,
   "id": "025e22f5",
   "metadata": {},
   "outputs": [
    {
     "data": {
      "application/vnd.microsoft.datawrangler.viewer.v0+json": {
       "columns": [
        {
         "name": "index",
         "rawType": "int64",
         "type": "integer"
        },
        {
         "name": "Titel",
         "rawType": "object",
         "type": "string"
        },
        {
         "name": "Författare",
         "rawType": "object",
         "type": "string"
        },
        {
         "name": "ISBN",
         "rawType": "object",
         "type": "string"
        },
        {
         "name": "Språk",
         "rawType": "object",
         "type": "string"
        },
        {
         "name": "Pris",
         "rawType": "int64",
         "type": "integer"
        },
        {
         "name": "Förlag",
         "rawType": "object",
         "type": "string"
        },
        {
         "name": "Butiksnamn",
         "rawType": "object",
         "type": "string"
        },
        {
         "name": "Stad",
         "rawType": "object",
         "type": "string"
        },
        {
         "name": "Antal",
         "rawType": "int64",
         "type": "integer"
        }
       ],
       "ref": "fcb5ca1f-cbc8-49b0-9e12-a884dcfcbe70",
       "rows": [
        [
         "0",
         "Harry Potter och De Vises Sten",
         "J.K. Rowling",
         "9781408855652",
         "Svenska",
         "199",
         "Bloomsbury",
         "Akademibokhandeln City",
         "Stockholm",
         "20"
        ],
        [
         "1",
         "Harry Potter och De Vises Sten",
         "J.K. Rowling",
         "9781408855652",
         "Svenska",
         "199",
         "Bloomsbury",
         "Bokens Värld",
         "Linköping",
         "11"
        ],
        [
         "2",
         "Harry Potter och De Vises Sten",
         "J.K. Rowling",
         "9781408855652",
         "Svenska",
         "199",
         "Bloomsbury",
         "Bokia Gallerian",
         "Göteborg",
         "18"
        ],
        [
         "3",
         "Harry Potter och De Vises Sten",
         "J.K. Rowling",
         "9781408855652",
         "Svenska",
         "199",
         "Bloomsbury",
         "Bokpalatset",
         "Luleå",
         "12"
        ],
        [
         "4",
         "Harry Potter och De Vises Sten",
         "J.K. Rowling",
         "9781408855652",
         "Svenska",
         "199",
         "Bloomsbury",
         "Läsglädjen",
         "Örebro",
         "14"
        ],
        [
         "5",
         "Harry Potter och De Vises Sten",
         "J.K. Rowling",
         "9781408855652",
         "Svenska",
         "199",
         "Bloomsbury",
         "Läslusten",
         "Uppsala",
         "15"
        ]
       ],
       "shape": {
        "columns": 9,
        "rows": 6
       }
      },
      "text/html": [
       "<div>\n",
       "<style scoped>\n",
       "    .dataframe tbody tr th:only-of-type {\n",
       "        vertical-align: middle;\n",
       "    }\n",
       "\n",
       "    .dataframe tbody tr th {\n",
       "        vertical-align: top;\n",
       "    }\n",
       "\n",
       "    .dataframe thead th {\n",
       "        text-align: right;\n",
       "    }\n",
       "</style>\n",
       "<table border=\"1\" class=\"dataframe\">\n",
       "  <thead>\n",
       "    <tr style=\"text-align: right;\">\n",
       "      <th></th>\n",
       "      <th>Titel</th>\n",
       "      <th>Författare</th>\n",
       "      <th>ISBN</th>\n",
       "      <th>Språk</th>\n",
       "      <th>Pris</th>\n",
       "      <th>Förlag</th>\n",
       "      <th>Butiksnamn</th>\n",
       "      <th>Stad</th>\n",
       "      <th>Antal</th>\n",
       "    </tr>\n",
       "  </thead>\n",
       "  <tbody>\n",
       "    <tr>\n",
       "      <th>0</th>\n",
       "      <td>Harry Potter och De Vises Sten</td>\n",
       "      <td>J.K. Rowling</td>\n",
       "      <td>9781408855652</td>\n",
       "      <td>Svenska</td>\n",
       "      <td>199</td>\n",
       "      <td>Bloomsbury</td>\n",
       "      <td>Akademibokhandeln City</td>\n",
       "      <td>Stockholm</td>\n",
       "      <td>20</td>\n",
       "    </tr>\n",
       "    <tr>\n",
       "      <th>1</th>\n",
       "      <td>Harry Potter och De Vises Sten</td>\n",
       "      <td>J.K. Rowling</td>\n",
       "      <td>9781408855652</td>\n",
       "      <td>Svenska</td>\n",
       "      <td>199</td>\n",
       "      <td>Bloomsbury</td>\n",
       "      <td>Bokens Värld</td>\n",
       "      <td>Linköping</td>\n",
       "      <td>11</td>\n",
       "    </tr>\n",
       "    <tr>\n",
       "      <th>2</th>\n",
       "      <td>Harry Potter och De Vises Sten</td>\n",
       "      <td>J.K. Rowling</td>\n",
       "      <td>9781408855652</td>\n",
       "      <td>Svenska</td>\n",
       "      <td>199</td>\n",
       "      <td>Bloomsbury</td>\n",
       "      <td>Bokia Gallerian</td>\n",
       "      <td>Göteborg</td>\n",
       "      <td>18</td>\n",
       "    </tr>\n",
       "    <tr>\n",
       "      <th>3</th>\n",
       "      <td>Harry Potter och De Vises Sten</td>\n",
       "      <td>J.K. Rowling</td>\n",
       "      <td>9781408855652</td>\n",
       "      <td>Svenska</td>\n",
       "      <td>199</td>\n",
       "      <td>Bloomsbury</td>\n",
       "      <td>Bokpalatset</td>\n",
       "      <td>Luleå</td>\n",
       "      <td>12</td>\n",
       "    </tr>\n",
       "    <tr>\n",
       "      <th>4</th>\n",
       "      <td>Harry Potter och De Vises Sten</td>\n",
       "      <td>J.K. Rowling</td>\n",
       "      <td>9781408855652</td>\n",
       "      <td>Svenska</td>\n",
       "      <td>199</td>\n",
       "      <td>Bloomsbury</td>\n",
       "      <td>Läsglädjen</td>\n",
       "      <td>Örebro</td>\n",
       "      <td>14</td>\n",
       "    </tr>\n",
       "    <tr>\n",
       "      <th>5</th>\n",
       "      <td>Harry Potter och De Vises Sten</td>\n",
       "      <td>J.K. Rowling</td>\n",
       "      <td>9781408855652</td>\n",
       "      <td>Svenska</td>\n",
       "      <td>199</td>\n",
       "      <td>Bloomsbury</td>\n",
       "      <td>Läslusten</td>\n",
       "      <td>Uppsala</td>\n",
       "      <td>15</td>\n",
       "    </tr>\n",
       "  </tbody>\n",
       "</table>\n",
       "</div>"
      ],
      "text/plain": [
       "                            Titel    Författare           ISBN    Språk  Pris  \\\n",
       "0  Harry Potter och De Vises Sten  J.K. Rowling  9781408855652  Svenska   199   \n",
       "1  Harry Potter och De Vises Sten  J.K. Rowling  9781408855652  Svenska   199   \n",
       "2  Harry Potter och De Vises Sten  J.K. Rowling  9781408855652  Svenska   199   \n",
       "3  Harry Potter och De Vises Sten  J.K. Rowling  9781408855652  Svenska   199   \n",
       "4  Harry Potter och De Vises Sten  J.K. Rowling  9781408855652  Svenska   199   \n",
       "5  Harry Potter och De Vises Sten  J.K. Rowling  9781408855652  Svenska   199   \n",
       "\n",
       "       Förlag              Butiksnamn       Stad  Antal  \n",
       "0  Bloomsbury  Akademibokhandeln City  Stockholm     20  \n",
       "1  Bloomsbury            Bokens Värld  Linköping     11  \n",
       "2  Bloomsbury         Bokia Gallerian   Göteborg     18  \n",
       "3  Bloomsbury             Bokpalatset      Luleå     12  \n",
       "4  Bloomsbury              Läsglädjen     Örebro     14  \n",
       "5  Bloomsbury               Läslusten    Uppsala     15  "
      ]
     },
     "metadata": {},
     "output_type": "display_data"
    }
   ],
   "source": [
    "term = \"Harry potter och de vises sten\"\n",
    "search_results = sql.search_books(engine,term)\n",
    "display(search_results)\n",
    "\n"
   ]
  }
 ],
 "metadata": {
  "kernelspec": {
   "display_name": ".venv",
   "language": "python",
   "name": "python3"
  },
  "language_info": {
   "codemirror_mode": {
    "name": "ipython",
    "version": 3
   },
   "file_extension": ".py",
   "mimetype": "text/x-python",
   "name": "python",
   "nbconvert_exporter": "python",
   "pygments_lexer": "ipython3",
   "version": "3.13.3"
  }
 },
 "nbformat": 4,
 "nbformat_minor": 5
}
